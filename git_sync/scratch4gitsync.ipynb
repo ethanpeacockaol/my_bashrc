{
 "cells": [
  {
   "cell_type": "code",
   "execution_count": 1,
   "id": "43a47799-7df3-4dc6-a5ed-0b3400dad9ea",
   "metadata": {},
   "outputs": [],
   "source": [
    "import os"
   ]
  },
  {
   "cell_type": "code",
   "execution_count": 2,
   "id": "86e83255-0cca-4f31-b52a-8ebc501793dc",
   "metadata": {},
   "outputs": [
    {
     "name": "stdout",
     "output_type": "stream",
     "text": [
      "Untitled.ipynb\n",
      "index.html\n",
      "x\n"
     ]
    },
    {
     "data": {
      "text/plain": [
       "0"
      ]
     },
     "execution_count": 2,
     "metadata": {},
     "output_type": "execute_result"
    }
   ],
   "source": [
    "os.system(\"ls\")"
   ]
  },
  {
   "cell_type": "code",
   "execution_count": 3,
   "id": "c7847bb3-1e31-4589-9cfe-7ac6b8c375a2",
   "metadata": {},
   "outputs": [],
   "source": [
    "import subprocess"
   ]
  },
  {
   "cell_type": "code",
   "execution_count": 4,
   "id": "7116ff91-6704-4012-a729-913b020906b0",
   "metadata": {},
   "outputs": [],
   "source": [
    "repos = [\"TODO\"]"
   ]
  },
  {
   "cell_type": "code",
   "execution_count": 5,
   "id": "60b84f9f-2ee6-4c84-89e5-59e305cd0f3a",
   "metadata": {},
   "outputs": [
    {
     "data": {
      "text/plain": [
       "['TODO']"
      ]
     },
     "execution_count": 5,
     "metadata": {},
     "output_type": "execute_result"
    }
   ],
   "source": [
    "repos"
   ]
  },
  {
   "cell_type": "code",
   "execution_count": 6,
   "id": "687c1084-e3de-438c-9e9f-23f8bdda404a",
   "metadata": {},
   "outputs": [
    {
     "ename": "SyntaxError",
     "evalue": "incomplete input (1666962165.py, line 1)",
     "output_type": "error",
     "traceback": [
      "  \u001b[36mCell\u001b[39m\u001b[36m \u001b[39m\u001b[32mIn[6]\u001b[39m\u001b[32m, line 1\u001b[39m\n\u001b[31m    \u001b[39m\u001b[31msubprocess.run(\"ls\", captured_output=True, text=True, shell=True(\u001b[39m\n                                                                     ^\n\u001b[31mSyntaxError\u001b[39m\u001b[31m:\u001b[39m incomplete input\n"
     ]
    }
   ],
   "source": [
    "subprocess.run(\"ls\", captured_output=True, text=True, shell=True("
   ]
  },
  {
   "cell_type": "code",
   "execution_count": 13,
   "id": "1958ac30-94dc-418e-8c57-8e68c103f579",
   "metadata": {},
   "outputs": [],
   "source": [
    "test = subprocess.run(\"ls\", capture_output=True, text=True)"
   ]
  },
  {
   "cell_type": "code",
   "execution_count": 14,
   "id": "0fa9ea40-8f22-4cf0-9f52-3476f9249a1a",
   "metadata": {},
   "outputs": [
    {
     "data": {
      "text/plain": [
       "CompletedProcess(args='ls', returncode=0, stdout='Untitled.ipynb\\nindex.html\\nx\\n', stderr='')"
      ]
     },
     "execution_count": 14,
     "metadata": {},
     "output_type": "execute_result"
    }
   ],
   "source": [
    "test"
   ]
  },
  {
   "cell_type": "code",
   "execution_count": 15,
   "id": "3a82a1d5-3b65-4304-9b42-a9d9cae8a9e2",
   "metadata": {},
   "outputs": [
    {
     "data": {
      "text/plain": [
       "['__class__',\n",
       " '__class_getitem__',\n",
       " '__delattr__',\n",
       " '__dict__',\n",
       " '__dir__',\n",
       " '__doc__',\n",
       " '__eq__',\n",
       " '__format__',\n",
       " '__ge__',\n",
       " '__getattribute__',\n",
       " '__getstate__',\n",
       " '__gt__',\n",
       " '__hash__',\n",
       " '__init__',\n",
       " '__init_subclass__',\n",
       " '__le__',\n",
       " '__lt__',\n",
       " '__module__',\n",
       " '__ne__',\n",
       " '__new__',\n",
       " '__reduce__',\n",
       " '__reduce_ex__',\n",
       " '__repr__',\n",
       " '__setattr__',\n",
       " '__sizeof__',\n",
       " '__str__',\n",
       " '__subclasshook__',\n",
       " '__weakref__',\n",
       " 'args',\n",
       " 'check_returncode',\n",
       " 'returncode',\n",
       " 'stderr',\n",
       " 'stdout']"
      ]
     },
     "execution_count": 15,
     "metadata": {},
     "output_type": "execute_result"
    }
   ],
   "source": [
    "dir(test)"
   ]
  },
  {
   "cell_type": "code",
   "execution_count": 17,
   "id": "b7e190a9-d4f2-4d48-a418-cf7ab76562f2",
   "metadata": {},
   "outputs": [
    {
     "data": {
      "text/plain": [
       "['Untitled.ipynb', 'index.html', 'x', '']"
      ]
     },
     "execution_count": 17,
     "metadata": {},
     "output_type": "execute_result"
    }
   ],
   "source": [
    "test.stdout.split(\"\\n\")"
   ]
  },
  {
   "cell_type": "code",
   "execution_count": 18,
   "id": "856cc74a-ad2f-4f32-877a-cb4310d444b3",
   "metadata": {},
   "outputs": [
    {
     "name": "stdout",
     "output_type": "stream",
     "text": [
      "Untitled.ipynb  index.html  \u001b[0m\u001b[01;36mx\u001b[0m\n"
     ]
    }
   ],
   "source": [
    "!ls"
   ]
  },
  {
   "cell_type": "code",
   "execution_count": 20,
   "id": "e86ea5e4-04b9-4068-97ad-302649a95624",
   "metadata": {},
   "outputs": [
    {
     "data": {
      "text/plain": [
       "'Untitled.ipynb\\nindex.html\\nx\\n'"
      ]
     },
     "execution_count": 20,
     "metadata": {},
     "output_type": "execute_result"
    }
   ],
   "source": [
    "test.stdout"
   ]
  },
  {
   "cell_type": "code",
   "execution_count": 22,
   "id": "84384275-59ca-4865-91fb-c456e515ca55",
   "metadata": {},
   "outputs": [
    {
     "data": {
      "text/plain": [
       "CompletedProcess(args='ls', returncode=0, stdout='Untitled.ipynb\\nindex.html\\nx\\n', stderr='')"
      ]
     },
     "execution_count": 22,
     "metadata": {},
     "output_type": "execute_result"
    }
   ],
   "source": [
    "test"
   ]
  },
  {
   "cell_type": "code",
   "execution_count": 24,
   "id": "ea59b065-59b7-472a-ad44-8860243f256b",
   "metadata": {},
   "outputs": [
    {
     "data": {
      "text/plain": [
       "['Untitled.ipynb', 'index.html', 'x']"
      ]
     },
     "execution_count": 24,
     "metadata": {},
     "output_type": "execute_result"
    }
   ],
   "source": [
    "dirs = test.stdout.split(\"\\n\")[:-1]\n",
    "dirs"
   ]
  },
  {
   "cell_type": "code",
   "execution_count": null,
   "id": "48fc3e6d-6698-4ed1-8d9d-59467c0b193a",
   "metadata": {},
   "outputs": [],
   "source": []
  }
 ],
 "metadata": {
  "kernelspec": {
   "display_name": "Python 3 (ipykernel)",
   "language": "python",
   "name": "python3"
  },
  "language_info": {
   "codemirror_mode": {
    "name": "ipython",
    "version": 3
   },
   "file_extension": ".py",
   "mimetype": "text/x-python",
   "name": "python",
   "nbconvert_exporter": "python",
   "pygments_lexer": "ipython3",
   "version": "3.12.11"
  }
 },
 "nbformat": 4,
 "nbformat_minor": 5
}
